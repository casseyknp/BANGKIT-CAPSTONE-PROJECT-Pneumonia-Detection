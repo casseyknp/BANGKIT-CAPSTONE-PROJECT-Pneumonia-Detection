{
  "nbformat": 4,
  "nbformat_minor": 0,
  "metadata": {
    "kernelspec": {
      "display_name": "Python 3",
      "language": "python",
      "name": "python3"
    },
    "language_info": {
      "codemirror_mode": {
        "name": "ipython",
        "version": 3
      },
      "file_extension": ".py",
      "mimetype": "text/x-python",
      "name": "python",
      "nbconvert_exporter": "python",
      "pygments_lexer": "ipython3",
      "version": "3.8.5"
    },
    "colab": {
      "name": "Pneumonia_Detection.ipynb",
      "provenance": [],
      "collapsed_sections": [],
      "toc_visible": true
    },
    "accelerator": "GPU"
  },
  "cells": [
    {
      "cell_type": "markdown",
      "metadata": {
        "id": "XN3i6pqVQFkV"
      },
      "source": [
        "# Pneumonia Detection Using XRay Images"
      ]
    },
    {
      "cell_type": "code",
      "metadata": {
        "id": "a98HRTRfqKf4"
      },
      "source": [
        "from google.colab import drive\n",
        "drive.mount('/content/drive')"
      ],
      "execution_count": null,
      "outputs": []
    },
    {
      "cell_type": "code",
      "metadata": {
        "id": "HkpjmZf5QFkc"
      },
      "source": [
        "import os, os.path\n",
        "import fnmatch\n",
        "\n",
        "import numpy as np\n",
        "import pandas as pd\n",
        "import tensorflow as tf\n",
        "import matplotlib.pyplot as plt\n",
        "from tensorflow.keras.preprocessing.image import ImageDataGenerator"
      ],
      "execution_count": null,
      "outputs": []
    },
    {
      "cell_type": "code",
      "metadata": {
        "colab": {
          "base_uri": "https://localhost:8080/"
        },
        "id": "Ep3ZxVocQFkf",
        "outputId": "362190c9-a4ed-4b46-b0ed-e5078446570e"
      },
      "source": [
        "path, dirs, normal_lungs = next(os.walk('/content/drive/MyDrive/Capstone Project/chest_xray/train/NORMAL'))\n",
        "normal_lungs_count = len(normal_lungs)\n",
        "print('Normal Chest XRays in the training dataset: ' + str(normal_lungs_count) + ' images')\n",
        "\n",
        "path, dirs, damaged_lungs = next(os.walk('/content/drive/MyDrive/Capstone Project/chest_xray/train/PNEUMONIA'))\n",
        "damaged_lungs_count = len(damaged_lungs)\n",
        "print('Pneumonia Chest XRays in the training dataset: ' + str(damaged_lungs_count) + ' images')"
      ],
      "execution_count": null,
      "outputs": [
        {
          "output_type": "stream",
          "text": [
            "Normal Chest XRays in the training dataset: 1341 images\n",
            "Pneumonia Chest XRays in the training dataset: 3875 images\n"
          ],
          "name": "stdout"
        }
      ]
    },
    {
      "cell_type": "code",
      "metadata": {
        "id": "_iM58plSxgHO"
      },
      "source": [
        "train_dir = '/content/drive/MyDrive/Capstone Project/chest_xray/train'\n",
        "test_dir = '/content/drive/MyDrive/Capstone Project/chest_xray/test'\n",
        "\n",
        "classes = ['PNEUMONIA','NORMAL']\n"
      ],
      "execution_count": null,
      "outputs": []
    },
    {
      "cell_type": "code",
      "metadata": {
        "id": "VTqkj0r5QFkf"
      },
      "source": [
        "batch_size = 256\n",
        "img_size = 224\n",
        "train_generator=ImageDataGenerator(rescale=1./255,featurewise_center=False, \n",
        "        samplewise_center=False,  \n",
        "        featurewise_std_normalization=False,\n",
        "        samplewise_std_normalization=False,  \n",
        "        zca_whitening=False,  \n",
        "        rotation_range = 30,  \n",
        "        zoom_range = 0.2, \n",
        "        width_shift_range=0.1, \n",
        "        height_shift_range=0.1,  \n",
        "        horizontal_flip = False,   \n",
        "        vertical_flip=False)\n",
        "val_generator=ImageDataGenerator(rescale=1./255)\n",
        "test_generator=ImageDataGenerator(rescale=1./255) "
      ],
      "execution_count": null,
      "outputs": []
    },
    {
      "cell_type": "code",
      "metadata": {
        "id": "0tsD9UsTQFkf",
        "colab": {
          "base_uri": "https://localhost:8080/"
        },
        "outputId": "bffcdfdb-9e1c-470d-f290-a1fb17063d7c"
      },
      "source": [
        "training_generator=train_generator.flow_from_directory(train_dir,\n",
        "                                                    target_size=(img_size,img_size),\n",
        "                                                    batch_size=batch_size,\n",
        "                                                    class_mode='binary',\n",
        "                                                    color_mode='grayscale')\n",
        "test_generator=test_generator.flow_from_directory(test_dir,\n",
        "                                                  target_size=(img_size,img_size),\n",
        "                                                  batch_size=batch_size,\n",
        "                                                  class_mode='binary',\n",
        "                                                  color_mode='grayscale') "
      ],
      "execution_count": null,
      "outputs": [
        {
          "output_type": "stream",
          "text": [
            "Found 5216 images belonging to 2 classes.\n",
            "Found 624 images belonging to 2 classes.\n"
          ],
          "name": "stdout"
        }
      ]
    },
    {
      "cell_type": "code",
      "metadata": {
        "id": "HHW898FYQFkh"
      },
      "source": [
        "model=tf.keras.Sequential([\n",
        "    tf.keras.layers.Conv2D(32,(3,3),input_shape=(img_size,img_size,1),activation='relu'), #karna greyscale pake 1, kalo rgb pake 3\n",
        "    tf.keras.layers.MaxPooling2D(2,2),\n",
        "\n",
        "    tf.keras.layers.Conv2D(32,(3,3),activation='relu'),\n",
        "    tf.keras.layers.MaxPooling2D(2,2),\n",
        "\n",
        "    tf.keras.layers.Conv2D(32,(3,3),activation='relu'),\n",
        "    tf.keras.layers.MaxPooling2D(2,2),\n",
        "\n",
        "\n",
        "    tf.keras.layers.Conv2D(64,(3,3),activation='relu'),\n",
        "    tf.keras.layers.MaxPooling2D(2,2),\n",
        "  \n",
        "    tf.keras.layers.Conv2D(64,(3,3),activation='relu'), \n",
        "    tf.keras.layers.MaxPooling2D(2,2),\n",
        "\n",
        "    tf.keras.layers.Flatten(),\n",
        "    tf.keras.layers.Dense(128,activation='relu'),\n",
        "    tf.keras.layers.Dense(64,activation='relu'), \n",
        "    tf.keras.layers.Dense(1,activation='sigmoid')\n",
        "    \n",
        "])\n"
      ],
      "execution_count": null,
      "outputs": []
    },
    {
      "cell_type": "code",
      "metadata": {
        "id": "-evo1dbhQFki"
      },
      "source": [
        "model.compile(optimizer=tf.keras.optimizers.Adam(learning_rate=0.001),loss='binary_crossentropy',metrics=['acc'])\n"
      ],
      "execution_count": null,
      "outputs": []
    },
    {
      "cell_type": "code",
      "metadata": {
        "colab": {
          "base_uri": "https://localhost:8080/"
        },
        "id": "3r3bAYIoT1Lv",
        "outputId": "44c76263-b65c-4b2a-bbb0-d7da9540388a"
      },
      "source": [
        "train_size = len(training_generator.filenames)\n",
        "test_size = len(test_generator.filenames)\n",
        "train_size, test_size"
      ],
      "execution_count": null,
      "outputs": [
        {
          "output_type": "execute_result",
          "data": {
            "text/plain": [
              "(5216, 624)"
            ]
          },
          "metadata": {
            "tags": []
          },
          "execution_count": 10
        }
      ]
    },
    {
      "cell_type": "code",
      "metadata": {
        "colab": {
          "base_uri": "https://localhost:8080/"
        },
        "id": "KTgbxYrpQFki",
        "outputId": "812244c0-8604-4bef-8ca1-49a8682507dd"
      },
      "source": [
        "model.summary()"
      ],
      "execution_count": null,
      "outputs": [
        {
          "output_type": "stream",
          "text": [
            "Model: \"sequential\"\n",
            "_________________________________________________________________\n",
            "Layer (type)                 Output Shape              Param #   \n",
            "=================================================================\n",
            "conv2d (Conv2D)              (None, 222, 222, 32)      320       \n",
            "_________________________________________________________________\n",
            "max_pooling2d (MaxPooling2D) (None, 111, 111, 32)      0         \n",
            "_________________________________________________________________\n",
            "conv2d_1 (Conv2D)            (None, 109, 109, 32)      9248      \n",
            "_________________________________________________________________\n",
            "max_pooling2d_1 (MaxPooling2 (None, 54, 54, 32)        0         \n",
            "_________________________________________________________________\n",
            "conv2d_2 (Conv2D)            (None, 52, 52, 32)        9248      \n",
            "_________________________________________________________________\n",
            "max_pooling2d_2 (MaxPooling2 (None, 26, 26, 32)        0         \n",
            "_________________________________________________________________\n",
            "conv2d_3 (Conv2D)            (None, 24, 24, 64)        18496     \n",
            "_________________________________________________________________\n",
            "max_pooling2d_3 (MaxPooling2 (None, 12, 12, 64)        0         \n",
            "_________________________________________________________________\n",
            "conv2d_4 (Conv2D)            (None, 10, 10, 64)        36928     \n",
            "_________________________________________________________________\n",
            "max_pooling2d_4 (MaxPooling2 (None, 5, 5, 64)          0         \n",
            "_________________________________________________________________\n",
            "flatten (Flatten)            (None, 1600)              0         \n",
            "_________________________________________________________________\n",
            "dense (Dense)                (None, 128)               204928    \n",
            "_________________________________________________________________\n",
            "dense_1 (Dense)              (None, 64)                8256      \n",
            "_________________________________________________________________\n",
            "dense_2 (Dense)              (None, 1)                 65        \n",
            "=================================================================\n",
            "Total params: 287,489\n",
            "Trainable params: 287,489\n",
            "Non-trainable params: 0\n",
            "_________________________________________________________________\n"
          ],
          "name": "stdout"
        }
      ]
    },
    {
      "cell_type": "code",
      "metadata": {
        "colab": {
          "base_uri": "https://localhost:8080/"
        },
        "id": "oVc6Q8p-QFki",
        "outputId": "7e8d41df-2e8f-436e-e20e-c1f3208d9294"
      },
      "source": [
        "history = model.fit_generator(generator = training_generator,\n",
        "            validation_data = test_generator,\n",
        "            steps_per_epoch = train_size/batch_size, \n",
        "            validation_steps = test_size/batch_size,\n",
        "            epochs = 5,\n",
        "            verbose = 1) "
      ],
      "execution_count": null,
      "outputs": [
        {
          "output_type": "stream",
          "text": [
            "/usr/local/lib/python3.7/dist-packages/tensorflow/python/keras/engine/training.py:1940: UserWarning: `Model.fit_generator` is deprecated and will be removed in a future version. Please use `Model.fit`, which supports generators.\n",
            "  warnings.warn('`Model.fit_generator` is deprecated and '\n"
          ],
          "name": "stderr"
        },
        {
          "output_type": "stream",
          "text": [
            "Epoch 1/5\n",
            "20/20 [==============================] - 2260s 109s/step - loss: 0.5945 - acc: 0.7337 - val_loss: 0.7339 - val_acc: 0.6250\n",
            "Epoch 2/5\n",
            "20/20 [==============================] - 66s 3s/step - loss: 0.5464 - acc: 0.7467 - val_loss: 0.5212 - val_acc: 0.7067\n",
            "Epoch 3/5\n",
            "20/20 [==============================] - 65s 3s/step - loss: 0.3658 - acc: 0.8324 - val_loss: 0.4070 - val_acc: 0.8109\n",
            "Epoch 4/5\n",
            "20/20 [==============================] - 65s 3s/step - loss: 0.3068 - acc: 0.8610 - val_loss: 0.3687 - val_acc: 0.8269\n",
            "Epoch 5/5\n",
            "20/20 [==============================] - 65s 3s/step - loss: 0.2769 - acc: 0.8817 - val_loss: 0.2940 - val_acc: 0.8798\n"
          ],
          "name": "stdout"
        }
      ]
    },
    {
      "cell_type": "code",
      "metadata": {
        "id": "Nrxsuw_Z9SPM"
      },
      "source": [
        "val_dir = '/content/drive/MyDrive/Capstone Project/chest_xray/val'\n",
        "\n",
        "classes = ['PNEUMONIA','NORMAL']"
      ],
      "execution_count": null,
      "outputs": []
    },
    {
      "cell_type": "code",
      "metadata": {
        "colab": {
          "base_uri": "https://localhost:8080/"
        },
        "id": "JyH03FGt9MGn",
        "outputId": "895ca9ed-448a-4af2-9e41-3224e0b3513e"
      },
      "source": [
        "val_generator=ImageDataGenerator(rescale=1./255)\n",
        "val_generator=val_generator.flow_from_directory(val_dir,\n",
        "                                                  target_size=(img_size,img_size),\n",
        "                                                  batch_size=batch_size,\n",
        "                                                  class_mode='binary',\n",
        "                                                  color_mode='grayscale') "
      ],
      "execution_count": null,
      "outputs": [
        {
          "output_type": "stream",
          "text": [
            "Found 16 images belonging to 2 classes.\n"
          ],
          "name": "stdout"
        }
      ]
    },
    {
      "cell_type": "code",
      "metadata": {
        "colab": {
          "base_uri": "https://localhost:8080/"
        },
        "id": "HJqvug1mTsdy",
        "outputId": "bd0f81c2-8fda-4efe-8cd1-56b446c45823"
      },
      "source": [
        "print(\"Loss of the model is - \" , model.evaluate(test_generator, steps=len(test_generator))[0]*100 , \"%\")\n",
        "print(\"Accuracy of the model is - \" , model.evaluate(test_generator,  steps=len(test_generator))[1]*100 , \"%\")"
      ],
      "execution_count": null,
      "outputs": [
        {
          "output_type": "stream",
          "text": [
            "3/3 [==============================] - 5s 1s/step - loss: 0.2940 - acc: 0.8798\n",
            "Loss of the model is -  29.39710021018982 %\n",
            "3/3 [==============================] - 5s 1s/step - loss: 0.2940 - acc: 0.8798\n",
            "Accuracy of the model is -  87.9807710647583 %\n"
          ],
          "name": "stdout"
        }
      ]
    },
    {
      "cell_type": "code",
      "metadata": {
        "colab": {
          "base_uri": "https://localhost:8080/",
          "height": 949
        },
        "id": "4m_kLnI99z2p",
        "outputId": "e49accce-5d07-40bd-f383-18fd4fe43345"
      },
      "source": [
        "train_loss = history.history['loss']\n",
        "test_loss = history.history['val_loss']\n",
        "# Generate line plot of training, testing loss over epochs.\n",
        "plt.figure(figsize=(12, 8))\n",
        "plt.plot(train_loss, label='Training Loss', color='blue')\n",
        "plt.plot(test_loss, label='Testing Loss', color='orange')\n",
        "plt.legend(fontsize = 18);\n",
        "\n",
        "train_accuracy = history.history['acc']\n",
        "test_accuracy = history.history['val_acc']\n",
        "# Generate line plot of training, testing loss over epochs.\n",
        "plt.figure(figsize=(12, 8))\n",
        "plt.plot(train_accuracy, label='Training Accuracy', color='blue')\n",
        "plt.plot(test_accuracy, label='Testing Accuracy', color='orange')\n",
        "plt.legend(fontsize = 18);"
      ],
      "execution_count": null,
      "outputs": [
        {
          "output_type": "display_data",
          "data": {
            "image/png": "[encoded data removed]",
            "text/plain": [
              "<Figure size 864x576 with 1 Axes>"
            ]
          },
          "metadata": {
            "tags": [],
            "needs_background": "light"
          }
        },
        {
          "output_type": "display_data",
          "data": {
            "image/png": "[encoded data removed]",
            "text/plain": [
              "<Figure size 864x576 with 1 Axes>"
            ]
          },
          "metadata": {
            "tags": [],
            "needs_background": "light"
          }
        }
      ]
    }
  ]
}